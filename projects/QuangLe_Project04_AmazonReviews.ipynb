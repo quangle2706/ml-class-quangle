{
  "nbformat": 4,
  "nbformat_minor": 0,
  "metadata": {
    "colab": {
      "provenance": [],
      "toc_visible": true,
      "authorship_tag": "ABX9TyMEzaGhMt/UZ/BMaqghr3nd"
    },
    "kernelspec": {
      "name": "python3",
      "display_name": "Python 3"
    },
    "language_info": {
      "name": "python"
    },
    "accelerator": "GPU",
    "gpuClass": "standard"
  },
  "cells": [
    {
      "cell_type": "markdown",
      "source": [
        "**INFORMATION**\n",
        "\n",
        "```\n",
        "Panther's ID:       6314061\n",
        "Student's Name:     Quang Tuan Le\n",
        "Professor's Name:   Prof. Ron Zacharski\n",
        "Semester:           Spring 2023 - CAP4770 \n",
        "```\n",
        "\n",
        "**Intro to Data Mining**\n",
        "\n",
        "**Project #4 - AMAZON REVIEW**\n",
        "\n",
        "Description:\n",
        "\n",
        "For our project we are going to use a dataset of Amazon Musical Instrument Reviews. The main reason I selected this dataset is that it is significantly smaller than the Amazon review datasets for movies, music, and books. This dataset has a bit over 221,000 reviews. \n"
      ],
      "metadata": {
        "id": "IkIvviagPHC2"
      }
    },
    {
      "cell_type": "markdown",
      "source": [
        "You are to develop a classifier that predicts the rating.\n",
        "\n",
        "The file with the training data is at http://34.82.108.37/amazonReviewsTrain.csv.zip\n",
        "\n",
        "Once you are done training and tuning your classify you should run it on the test data.\n",
        "\n",
        "The file with the test data is http://34.82.108.37/amazonReviewsTest.csv\n",
        "\n",
        "Your predictions for the test set should be in a text file named amazonReviewsPredictions.txt that is placed in the same github directory as your Jupyter notebook file containing your code and comments."
      ],
      "metadata": {
        "id": "EonNUVnhxwr_"
      }
    },
    {
      "cell_type": "markdown",
      "source": [
        "#### **1) Prepare Dataset to Process**"
      ],
      "metadata": {
        "id": "IvNLs-wzyfq1"
      }
    },
    {
      "cell_type": "code",
      "execution_count": 2,
      "metadata": {
        "id": "97L15OElO0lk",
        "colab": {
          "base_uri": "https://localhost:8080/"
        },
        "outputId": "6e9fadbd-7468-4197-b23c-5342f56f48e9"
      },
      "outputs": [
        {
          "output_type": "stream",
          "name": "stdout",
          "text": [
            "--2023-04-11 19:01:27--  http://34.82.108.37/amazonReviewsTrain.csv.zip\n",
            "Connecting to 34.82.108.37:80... connected.\n",
            "HTTP request sent, awaiting response... 200 OK\n",
            "Length: 39456705 (38M) [application/zip]\n",
            "Saving to: ‘amazonReviewsTrain.csv.zip’\n",
            "\n",
            "amazonReviewsTrain. 100%[===================>]  37.63M  12.0MB/s    in 3.1s    \n",
            "\n",
            "2023-04-11 19:01:31 (12.0 MB/s) - ‘amazonReviewsTrain.csv.zip’ saved [39456705/39456705]\n",
            "\n"
          ]
        }
      ],
      "source": [
        "!wget http://34.82.108.37/amazonReviewsTrain.csv.zip"
      ]
    },
    {
      "cell_type": "code",
      "source": [
        "!unzip amazonReviewsTrain.csv.zip"
      ],
      "metadata": {
        "colab": {
          "base_uri": "https://localhost:8080/"
        },
        "id": "TFIOS1-5yJj2",
        "outputId": "ffc4b09f-8f42-4b77-cb78-f697a0730bed"
      },
      "execution_count": 3,
      "outputs": [
        {
          "output_type": "stream",
          "name": "stdout",
          "text": [
            "Archive:  amazonReviewsTrain.csv.zip\n",
            "  inflating: amazonReviewsTrain.csv  \n"
          ]
        }
      ]
    },
    {
      "cell_type": "code",
      "source": [
        "!wget http://34.82.108.37/amazonReviewsTest.csv"
      ],
      "metadata": {
        "colab": {
          "base_uri": "https://localhost:8080/"
        },
        "id": "DjlJyQnWyPJ1",
        "outputId": "f136240a-5cc0-477c-ce24-04ef092df443"
      },
      "execution_count": 4,
      "outputs": [
        {
          "output_type": "stream",
          "name": "stdout",
          "text": [
            "--2023-04-11 19:01:40--  http://34.82.108.37/amazonReviewsTest.csv\n",
            "Connecting to 34.82.108.37:80... connected.\n",
            "HTTP request sent, awaiting response... 200 OK\n",
            "Length: 4240573 (4.0M) [application/octet-stream]\n",
            "Saving to: ‘amazonReviewsTest.csv’\n",
            "\n",
            "amazonReviewsTest.c 100%[===================>]   4.04M  3.22MB/s    in 1.3s    \n",
            "\n",
            "2023-04-11 19:01:42 (3.22 MB/s) - ‘amazonReviewsTest.csv’ saved [4240573/4240573]\n",
            "\n"
          ]
        }
      ]
    },
    {
      "cell_type": "markdown",
      "source": [
        "#### **2) Import Necessary Libraries**"
      ],
      "metadata": {
        "id": "9wMRi97yycBZ"
      }
    },
    {
      "cell_type": "code",
      "source": [
        "# import the pandas library\n",
        "import pandas as pd\n",
        "\n",
        "# import the numpy library\n",
        "import numpy as np \n",
        "\n",
        "# import Tokenizer library\n",
        "from keras.preprocessing.text import Tokenizer\n",
        "\n",
        "# import pad_sequences library\n",
        "from keras.utils import pad_sequences\n",
        "\n",
        "# import train_test_split\n",
        "from sklearn.model_selection import train_test_split\n",
        "\n",
        "# import to_categorical utilities\n",
        "from keras.utils import to_categorical\n",
        "\n",
        "# import keras models, layers library to define models\n",
        "from keras import layers\n",
        "from keras.models import Sequential\n",
        "from keras.layers import Flatten, Dense, Embedding"
      ],
      "metadata": {
        "id": "9oNzTEUiykUE"
      },
      "execution_count": 5,
      "outputs": []
    },
    {
      "cell_type": "markdown",
      "source": [
        "#### **3) Analyze Data & Train Data**"
      ],
      "metadata": {
        "id": "OYv7UGVvyk24"
      }
    },
    {
      "cell_type": "markdown",
      "source": [
        "##### **Download all dataset**"
      ],
      "metadata": {
        "id": "a3uAKIv7pGD_"
      }
    },
    {
      "cell_type": "code",
      "source": [
        "# read csv file for training dataset\n",
        "import pandas as pd\n",
        "training_data = pd.read_csv('amazonReviewsTrain.csv')\n",
        "training_data"
      ],
      "metadata": {
        "colab": {
          "base_uri": "https://localhost:8080/",
          "height": 1000
        },
        "id": "mnQG8sJszCTc",
        "outputId": "b0491cf6-c1f9-4f90-8db3-84fc09fe6ec9"
      },
      "execution_count": 6,
      "outputs": [
        {
          "output_type": "stream",
          "name": "stderr",
          "text": [
            "<ipython-input-6-720e257bee18>:3: DtypeWarning: Columns (8) have mixed types. Specify dtype option on import or set low_memory=False.\n",
            "  training_data = pd.read_csv('amazonReviewsTrain.csv')\n"
          ]
        },
        {
          "output_type": "execute_result",
          "data": {
            "text/plain": [
              "        verified   reviewTime      reviewerID        asin  \\\n",
              "0           True   05 4, 2017  A2QNLVLQHW6OOC  B00NEZNT74   \n",
              "1           True   12 1, 2014  A32SHV461SUWNQ  B002Q0WTCE   \n",
              "2           True  12 23, 2015  A2SKHG5ULPYIMC  B0002GFP9I   \n",
              "3           True   09 4, 2013  A2MFJ6C67AL015  B003AJVKDO   \n",
              "4           True  08 28, 2015   ACYCDUUE9A3T2  B004XNK7AI   \n",
              "...          ...          ...             ...         ...   \n",
              "221387      True  08 16, 2015  A1TWEBKVZDD2JJ  B0002H05BA   \n",
              "221388      True   01 8, 2012   AP32V2GXAK9VM  B000WME8C2   \n",
              "221389      True  10 22, 2017   A4BIHE0AYAMTP  B00MD7S06O   \n",
              "221390      True   01 9, 2016  A3OCE03MZ2PC2J  B0017PLYCK   \n",
              "221391      True  01 15, 2013  A3T3KPW2QE866W  B0002II7H8   \n",
              "\n",
              "                               reviewerName  \\\n",
              "0                                  Jason L.   \n",
              "1                                Richard C.   \n",
              "2       BellaLatinaReina-ACP Zero-Nine-Five   \n",
              "3                                    BOS116   \n",
              "4                              jack edwards   \n",
              "...                                     ...   \n",
              "221387                           Obey Giant   \n",
              "221388                                 Grey   \n",
              "221389                            divbyzero   \n",
              "221390                               scaper   \n",
              "221391                               leelee   \n",
              "\n",
              "                                               reviewText  \\\n",
              "0              Have 30 of these in operation great lights   \n",
              "1       Good replacement.  I prefer my Rovner L5, but ...   \n",
              "2       My son & band teacher loves it. Really nice. B...   \n",
              "3       This was a gift for a friend who is a fan of t...   \n",
              "4       Wish it would attach to my violin a little eas...   \n",
              "...                                                   ...   \n",
              "221387  Still hard to beat D'Addario. Hope they keep i...   \n",
              "221388  Ortofon hits the nail right on the head with t...   \n",
              "221389  This is my absolute favorite guitar strap amon...   \n",
              "221390                                               nice   \n",
              "221391  This polishing cloth is well-made and a great ...   \n",
              "\n",
              "                                                  summary  unixReviewTime  \\\n",
              "0                                              Five Stars      1493856000   \n",
              "1                 Good replacement. I prefer my Rovner L5      1417392000   \n",
              "2                    Really Helps With Their Practice Pad      1450828800   \n",
              "3                                            Guitar picks      1378252800   \n",
              "4       ... to my violin a little easier but it works ...      1440720000   \n",
              "...                                                   ...             ...   \n",
              "221387                                         Five Stars      1439683200   \n",
              "221388                       Headshell Impovment?  YES!!!      1325980800   \n",
              "221389                            ecclesiastical / hippie      1508630400   \n",
              "221390                                         Five Stars      1452297600   \n",
              "221391                              Great polishing cloth      1358208000   \n",
              "\n",
              "       vote                                              style  \\\n",
              "0       NaN                                  {'Size:': ' 4PC'}   \n",
              "1       NaN                                                NaN   \n",
              "2       NaN                                                NaN   \n",
              "3       NaN                                {'Color:': ' Logo'}   \n",
              "4       NaN                        {'Color:': ' Black - SN-5'}   \n",
              "...     ...                                                ...   \n",
              "221387  NaN  {'Size:': ' Regular Light, 10-46', 'Style:': '...   \n",
              "221388  7.0                               {'Color:': ' Black'}   \n",
              "221389  NaN                                                NaN   \n",
              "221390  NaN                                                NaN   \n",
              "221391  NaN                                                NaN   \n",
              "\n",
              "                                                    image    rating  \n",
              "0                                                     NaN  positive  \n",
              "1                                                     NaN  positive  \n",
              "2                                                     NaN  positive  \n",
              "3                                                     NaN  positive  \n",
              "4                                                     NaN  positive  \n",
              "...                                                   ...       ...  \n",
              "221387                                                NaN  positive  \n",
              "221388                                                NaN  positive  \n",
              "221389  ['https://images-na.ssl-images-amazon.com/imag...  positive  \n",
              "221390                                                NaN  positive  \n",
              "221391                                                NaN  positive  \n",
              "\n",
              "[221392 rows x 12 columns]"
            ],
            "text/html": [
              "\n",
              "  <div id=\"df-690b85d4-5c93-4d47-8dfe-280d0f599a0a\">\n",
              "    <div class=\"colab-df-container\">\n",
              "      <div>\n",
              "<style scoped>\n",
              "    .dataframe tbody tr th:only-of-type {\n",
              "        vertical-align: middle;\n",
              "    }\n",
              "\n",
              "    .dataframe tbody tr th {\n",
              "        vertical-align: top;\n",
              "    }\n",
              "\n",
              "    .dataframe thead th {\n",
              "        text-align: right;\n",
              "    }\n",
              "</style>\n",
              "<table border=\"1\" class=\"dataframe\">\n",
              "  <thead>\n",
              "    <tr style=\"text-align: right;\">\n",
              "      <th></th>\n",
              "      <th>verified</th>\n",
              "      <th>reviewTime</th>\n",
              "      <th>reviewerID</th>\n",
              "      <th>asin</th>\n",
              "      <th>reviewerName</th>\n",
              "      <th>reviewText</th>\n",
              "      <th>summary</th>\n",
              "      <th>unixReviewTime</th>\n",
              "      <th>vote</th>\n",
              "      <th>style</th>\n",
              "      <th>image</th>\n",
              "      <th>rating</th>\n",
              "    </tr>\n",
              "  </thead>\n",
              "  <tbody>\n",
              "    <tr>\n",
              "      <th>0</th>\n",
              "      <td>True</td>\n",
              "      <td>05 4, 2017</td>\n",
              "      <td>A2QNLVLQHW6OOC</td>\n",
              "      <td>B00NEZNT74</td>\n",
              "      <td>Jason L.</td>\n",
              "      <td>Have 30 of these in operation great lights</td>\n",
              "      <td>Five Stars</td>\n",
              "      <td>1493856000</td>\n",
              "      <td>NaN</td>\n",
              "      <td>{'Size:': ' 4PC'}</td>\n",
              "      <td>NaN</td>\n",
              "      <td>positive</td>\n",
              "    </tr>\n",
              "    <tr>\n",
              "      <th>1</th>\n",
              "      <td>True</td>\n",
              "      <td>12 1, 2014</td>\n",
              "      <td>A32SHV461SUWNQ</td>\n",
              "      <td>B002Q0WTCE</td>\n",
              "      <td>Richard C.</td>\n",
              "      <td>Good replacement.  I prefer my Rovner L5, but ...</td>\n",
              "      <td>Good replacement. I prefer my Rovner L5</td>\n",
              "      <td>1417392000</td>\n",
              "      <td>NaN</td>\n",
              "      <td>NaN</td>\n",
              "      <td>NaN</td>\n",
              "      <td>positive</td>\n",
              "    </tr>\n",
              "    <tr>\n",
              "      <th>2</th>\n",
              "      <td>True</td>\n",
              "      <td>12 23, 2015</td>\n",
              "      <td>A2SKHG5ULPYIMC</td>\n",
              "      <td>B0002GFP9I</td>\n",
              "      <td>BellaLatinaReina-ACP Zero-Nine-Five</td>\n",
              "      <td>My son &amp; band teacher loves it. Really nice. B...</td>\n",
              "      <td>Really Helps With Their Practice Pad</td>\n",
              "      <td>1450828800</td>\n",
              "      <td>NaN</td>\n",
              "      <td>NaN</td>\n",
              "      <td>NaN</td>\n",
              "      <td>positive</td>\n",
              "    </tr>\n",
              "    <tr>\n",
              "      <th>3</th>\n",
              "      <td>True</td>\n",
              "      <td>09 4, 2013</td>\n",
              "      <td>A2MFJ6C67AL015</td>\n",
              "      <td>B003AJVKDO</td>\n",
              "      <td>BOS116</td>\n",
              "      <td>This was a gift for a friend who is a fan of t...</td>\n",
              "      <td>Guitar picks</td>\n",
              "      <td>1378252800</td>\n",
              "      <td>NaN</td>\n",
              "      <td>{'Color:': ' Logo'}</td>\n",
              "      <td>NaN</td>\n",
              "      <td>positive</td>\n",
              "    </tr>\n",
              "    <tr>\n",
              "      <th>4</th>\n",
              "      <td>True</td>\n",
              "      <td>08 28, 2015</td>\n",
              "      <td>ACYCDUUE9A3T2</td>\n",
              "      <td>B004XNK7AI</td>\n",
              "      <td>jack edwards</td>\n",
              "      <td>Wish it would attach to my violin a little eas...</td>\n",
              "      <td>... to my violin a little easier but it works ...</td>\n",
              "      <td>1440720000</td>\n",
              "      <td>NaN</td>\n",
              "      <td>{'Color:': ' Black - SN-5'}</td>\n",
              "      <td>NaN</td>\n",
              "      <td>positive</td>\n",
              "    </tr>\n",
              "    <tr>\n",
              "      <th>...</th>\n",
              "      <td>...</td>\n",
              "      <td>...</td>\n",
              "      <td>...</td>\n",
              "      <td>...</td>\n",
              "      <td>...</td>\n",
              "      <td>...</td>\n",
              "      <td>...</td>\n",
              "      <td>...</td>\n",
              "      <td>...</td>\n",
              "      <td>...</td>\n",
              "      <td>...</td>\n",
              "      <td>...</td>\n",
              "    </tr>\n",
              "    <tr>\n",
              "      <th>221387</th>\n",
              "      <td>True</td>\n",
              "      <td>08 16, 2015</td>\n",
              "      <td>A1TWEBKVZDD2JJ</td>\n",
              "      <td>B0002H05BA</td>\n",
              "      <td>Obey Giant</td>\n",
              "      <td>Still hard to beat D'Addario. Hope they keep i...</td>\n",
              "      <td>Five Stars</td>\n",
              "      <td>1439683200</td>\n",
              "      <td>NaN</td>\n",
              "      <td>{'Size:': ' Regular Light, 10-46', 'Style:': '...</td>\n",
              "      <td>NaN</td>\n",
              "      <td>positive</td>\n",
              "    </tr>\n",
              "    <tr>\n",
              "      <th>221388</th>\n",
              "      <td>True</td>\n",
              "      <td>01 8, 2012</td>\n",
              "      <td>AP32V2GXAK9VM</td>\n",
              "      <td>B000WME8C2</td>\n",
              "      <td>Grey</td>\n",
              "      <td>Ortofon hits the nail right on the head with t...</td>\n",
              "      <td>Headshell Impovment?  YES!!!</td>\n",
              "      <td>1325980800</td>\n",
              "      <td>7.0</td>\n",
              "      <td>{'Color:': ' Black'}</td>\n",
              "      <td>NaN</td>\n",
              "      <td>positive</td>\n",
              "    </tr>\n",
              "    <tr>\n",
              "      <th>221389</th>\n",
              "      <td>True</td>\n",
              "      <td>10 22, 2017</td>\n",
              "      <td>A4BIHE0AYAMTP</td>\n",
              "      <td>B00MD7S06O</td>\n",
              "      <td>divbyzero</td>\n",
              "      <td>This is my absolute favorite guitar strap amon...</td>\n",
              "      <td>ecclesiastical / hippie</td>\n",
              "      <td>1508630400</td>\n",
              "      <td>NaN</td>\n",
              "      <td>NaN</td>\n",
              "      <td>['https://images-na.ssl-images-amazon.com/imag...</td>\n",
              "      <td>positive</td>\n",
              "    </tr>\n",
              "    <tr>\n",
              "      <th>221390</th>\n",
              "      <td>True</td>\n",
              "      <td>01 9, 2016</td>\n",
              "      <td>A3OCE03MZ2PC2J</td>\n",
              "      <td>B0017PLYCK</td>\n",
              "      <td>scaper</td>\n",
              "      <td>nice</td>\n",
              "      <td>Five Stars</td>\n",
              "      <td>1452297600</td>\n",
              "      <td>NaN</td>\n",
              "      <td>NaN</td>\n",
              "      <td>NaN</td>\n",
              "      <td>positive</td>\n",
              "    </tr>\n",
              "    <tr>\n",
              "      <th>221391</th>\n",
              "      <td>True</td>\n",
              "      <td>01 15, 2013</td>\n",
              "      <td>A3T3KPW2QE866W</td>\n",
              "      <td>B0002II7H8</td>\n",
              "      <td>leelee</td>\n",
              "      <td>This polishing cloth is well-made and a great ...</td>\n",
              "      <td>Great polishing cloth</td>\n",
              "      <td>1358208000</td>\n",
              "      <td>NaN</td>\n",
              "      <td>NaN</td>\n",
              "      <td>NaN</td>\n",
              "      <td>positive</td>\n",
              "    </tr>\n",
              "  </tbody>\n",
              "</table>\n",
              "<p>221392 rows × 12 columns</p>\n",
              "</div>\n",
              "      <button class=\"colab-df-convert\" onclick=\"convertToInteractive('df-690b85d4-5c93-4d47-8dfe-280d0f599a0a')\"\n",
              "              title=\"Convert this dataframe to an interactive table.\"\n",
              "              style=\"display:none;\">\n",
              "        \n",
              "  <svg xmlns=\"http://www.w3.org/2000/svg\" height=\"24px\"viewBox=\"0 0 24 24\"\n",
              "       width=\"24px\">\n",
              "    <path d=\"M0 0h24v24H0V0z\" fill=\"none\"/>\n",
              "    <path d=\"M18.56 5.44l.94 2.06.94-2.06 2.06-.94-2.06-.94-.94-2.06-.94 2.06-2.06.94zm-11 1L8.5 8.5l.94-2.06 2.06-.94-2.06-.94L8.5 2.5l-.94 2.06-2.06.94zm10 10l.94 2.06.94-2.06 2.06-.94-2.06-.94-.94-2.06-.94 2.06-2.06.94z\"/><path d=\"M17.41 7.96l-1.37-1.37c-.4-.4-.92-.59-1.43-.59-.52 0-1.04.2-1.43.59L10.3 9.45l-7.72 7.72c-.78.78-.78 2.05 0 2.83L4 21.41c.39.39.9.59 1.41.59.51 0 1.02-.2 1.41-.59l7.78-7.78 2.81-2.81c.8-.78.8-2.07 0-2.86zM5.41 20L4 18.59l7.72-7.72 1.47 1.35L5.41 20z\"/>\n",
              "  </svg>\n",
              "      </button>\n",
              "      \n",
              "  <style>\n",
              "    .colab-df-container {\n",
              "      display:flex;\n",
              "      flex-wrap:wrap;\n",
              "      gap: 12px;\n",
              "    }\n",
              "\n",
              "    .colab-df-convert {\n",
              "      background-color: #E8F0FE;\n",
              "      border: none;\n",
              "      border-radius: 50%;\n",
              "      cursor: pointer;\n",
              "      display: none;\n",
              "      fill: #1967D2;\n",
              "      height: 32px;\n",
              "      padding: 0 0 0 0;\n",
              "      width: 32px;\n",
              "    }\n",
              "\n",
              "    .colab-df-convert:hover {\n",
              "      background-color: #E2EBFA;\n",
              "      box-shadow: 0px 1px 2px rgba(60, 64, 67, 0.3), 0px 1px 3px 1px rgba(60, 64, 67, 0.15);\n",
              "      fill: #174EA6;\n",
              "    }\n",
              "\n",
              "    [theme=dark] .colab-df-convert {\n",
              "      background-color: #3B4455;\n",
              "      fill: #D2E3FC;\n",
              "    }\n",
              "\n",
              "    [theme=dark] .colab-df-convert:hover {\n",
              "      background-color: #434B5C;\n",
              "      box-shadow: 0px 1px 3px 1px rgba(0, 0, 0, 0.15);\n",
              "      filter: drop-shadow(0px 1px 2px rgba(0, 0, 0, 0.3));\n",
              "      fill: #FFFFFF;\n",
              "    }\n",
              "  </style>\n",
              "\n",
              "      <script>\n",
              "        const buttonEl =\n",
              "          document.querySelector('#df-690b85d4-5c93-4d47-8dfe-280d0f599a0a button.colab-df-convert');\n",
              "        buttonEl.style.display =\n",
              "          google.colab.kernel.accessAllowed ? 'block' : 'none';\n",
              "\n",
              "        async function convertToInteractive(key) {\n",
              "          const element = document.querySelector('#df-690b85d4-5c93-4d47-8dfe-280d0f599a0a');\n",
              "          const dataTable =\n",
              "            await google.colab.kernel.invokeFunction('convertToInteractive',\n",
              "                                                     [key], {});\n",
              "          if (!dataTable) return;\n",
              "\n",
              "          const docLinkHtml = 'Like what you see? Visit the ' +\n",
              "            '<a target=\"_blank\" href=https://colab.research.google.com/notebooks/data_table.ipynb>data table notebook</a>'\n",
              "            + ' to learn more about interactive tables.';\n",
              "          element.innerHTML = '';\n",
              "          dataTable['output_type'] = 'display_data';\n",
              "          await google.colab.output.renderOutput(dataTable, element);\n",
              "          const docLink = document.createElement('div');\n",
              "          docLink.innerHTML = docLinkHtml;\n",
              "          element.appendChild(docLink);\n",
              "        }\n",
              "      </script>\n",
              "    </div>\n",
              "  </div>\n",
              "  "
            ]
          },
          "metadata": {},
          "execution_count": 6
        }
      ]
    },
    {
      "cell_type": "code",
      "source": [
        "# load testing data set into testing_data\n",
        "import pandas as pd\n",
        "testing_data = pd.read_csv('amazonReviewsTest.csv')\n",
        "testing_data"
      ],
      "metadata": {
        "colab": {
          "base_uri": "https://localhost:8080/",
          "height": 1000
        },
        "id": "UFtWJfxWzYeu",
        "outputId": "76ceba96-b28e-45e3-de69-c504bcd6172d"
      },
      "execution_count": 7,
      "outputs": [
        {
          "output_type": "execute_result",
          "data": {
            "text/plain": [
              "      verified   reviewTime      reviewerID        asin         reviewerName  \\\n",
              "0        False  08 17, 2016   AMKHFIJJ81LYJ  B00EA1U1X6             Frank P.   \n",
              "1         True  08 22, 2015   A3SZ045Z7CP56  B0002GNUYU    David A. Caufield   \n",
              "2         True  07 30, 2014   AZMSVSJFACBPB  B0006LOBA8            Neurofizz   \n",
              "3         True   03 9, 2012  A39SRYB2M0Z5FG  B000Y30NAA             s.reeths   \n",
              "4         True   02 3, 2013  A35A62ZXXKXHIW  B002N4ZBE6          Marine Docl   \n",
              "...        ...          ...             ...         ...                  ...   \n",
              "9995      True  09 30, 2015  A3QXBRMHPZPIIP  B00GTVF6VC                Julie   \n",
              "9996      True  12 22, 2017  A3CN2KXSYK5HSX  B0002KZDN2                Manth   \n",
              "9997      True  03 29, 2011   AVO7MT1IJAM31  B0026IC6S8                   GM   \n",
              "9998     False  04 30, 2014  A1XIPYWY6LXKAO  B0042GBDLI  Patrick W. Schubert   \n",
              "9999      True  02 18, 2016   ARMHWX2IXKD6S  B005H3TH4A         Julie Austin   \n",
              "\n",
              "                                             reviewText  \\\n",
              "0     I am a (very amateur) EDM and Hip Hop Producer...   \n",
              "1     These are pretty beefy strings even for black ...   \n",
              "2     I've played every new \"improved\" string out th...   \n",
              "3     I thought I would give this pedal a try, becau...   \n",
              "4     Been wanting to try one for over a year.  Good...   \n",
              "...                                                 ...   \n",
              "9995  I took it off my guitar! I would rather look a...   \n",
              "9996  Better than the stock part on non-USA made gui...   \n",
              "9997  I'm updating this review after using the violi...   \n",
              "9998  A lot of sound research and engineering go int...   \n",
              "9999  This is my second stand like this. Looks reall...   \n",
              "\n",
              "                                                summary  unixReviewTime  vote  \\\n",
              "0                                      Extremely Happy.      1471392000   NaN   \n",
              "1     once again, Rotosound strings fail to impress ...      1440201600   NaN   \n",
              "2     and keep coming home to the girls that really ...      1406678400   NaN   \n",
              "3                            save up for a better pedal      1331251200   NaN   \n",
              "4                                               Big Six      1359849600   NaN   \n",
              "...                                                 ...             ...   ...   \n",
              "9995                                  Save your money!!      1443571200   7.0   \n",
              "9996                                         Four Stars      1513900800   NaN   \n",
              "9997                              First Violin Purchase      1301356800  27.0   \n",
              "9998                      Another winner from Hardwire!      1398816000   3.0   \n",
              "9999                                         Five Stars      1455753600   NaN   \n",
              "\n",
              "                                                  style image  \n",
              "0                     {'style:': ' 5\" Monitor Speaker'}   NaN  \n",
              "1                                                   NaN   NaN  \n",
              "2                                                   NaN   NaN  \n",
              "3                                 {'Style:': ' CHORUS'}   NaN  \n",
              "4                                                   NaN   NaN  \n",
              "...                                                 ...   ...  \n",
              "9995                                                NaN   NaN  \n",
              "9996                                                NaN   NaN  \n",
              "9997  {'Size:': ' 4/4', 'Color:': ' Traditional Brow...   NaN  \n",
              "9998                                                NaN   NaN  \n",
              "9999                                                NaN   NaN  \n",
              "\n",
              "[10000 rows x 11 columns]"
            ],
            "text/html": [
              "\n",
              "  <div id=\"df-08ab184f-b359-4431-94e6-f8eb0dcbe925\">\n",
              "    <div class=\"colab-df-container\">\n",
              "      <div>\n",
              "<style scoped>\n",
              "    .dataframe tbody tr th:only-of-type {\n",
              "        vertical-align: middle;\n",
              "    }\n",
              "\n",
              "    .dataframe tbody tr th {\n",
              "        vertical-align: top;\n",
              "    }\n",
              "\n",
              "    .dataframe thead th {\n",
              "        text-align: right;\n",
              "    }\n",
              "</style>\n",
              "<table border=\"1\" class=\"dataframe\">\n",
              "  <thead>\n",
              "    <tr style=\"text-align: right;\">\n",
              "      <th></th>\n",
              "      <th>verified</th>\n",
              "      <th>reviewTime</th>\n",
              "      <th>reviewerID</th>\n",
              "      <th>asin</th>\n",
              "      <th>reviewerName</th>\n",
              "      <th>reviewText</th>\n",
              "      <th>summary</th>\n",
              "      <th>unixReviewTime</th>\n",
              "      <th>vote</th>\n",
              "      <th>style</th>\n",
              "      <th>image</th>\n",
              "    </tr>\n",
              "  </thead>\n",
              "  <tbody>\n",
              "    <tr>\n",
              "      <th>0</th>\n",
              "      <td>False</td>\n",
              "      <td>08 17, 2016</td>\n",
              "      <td>AMKHFIJJ81LYJ</td>\n",
              "      <td>B00EA1U1X6</td>\n",
              "      <td>Frank P.</td>\n",
              "      <td>I am a (very amateur) EDM and Hip Hop Producer...</td>\n",
              "      <td>Extremely Happy.</td>\n",
              "      <td>1471392000</td>\n",
              "      <td>NaN</td>\n",
              "      <td>{'style:': ' 5\" Monitor Speaker'}</td>\n",
              "      <td>NaN</td>\n",
              "    </tr>\n",
              "    <tr>\n",
              "      <th>1</th>\n",
              "      <td>True</td>\n",
              "      <td>08 22, 2015</td>\n",
              "      <td>A3SZ045Z7CP56</td>\n",
              "      <td>B0002GNUYU</td>\n",
              "      <td>David A. Caufield</td>\n",
              "      <td>These are pretty beefy strings even for black ...</td>\n",
              "      <td>once again, Rotosound strings fail to impress ...</td>\n",
              "      <td>1440201600</td>\n",
              "      <td>NaN</td>\n",
              "      <td>NaN</td>\n",
              "      <td>NaN</td>\n",
              "    </tr>\n",
              "    <tr>\n",
              "      <th>2</th>\n",
              "      <td>True</td>\n",
              "      <td>07 30, 2014</td>\n",
              "      <td>AZMSVSJFACBPB</td>\n",
              "      <td>B0006LOBA8</td>\n",
              "      <td>Neurofizz</td>\n",
              "      <td>I've played every new \"improved\" string out th...</td>\n",
              "      <td>and keep coming home to the girls that really ...</td>\n",
              "      <td>1406678400</td>\n",
              "      <td>NaN</td>\n",
              "      <td>NaN</td>\n",
              "      <td>NaN</td>\n",
              "    </tr>\n",
              "    <tr>\n",
              "      <th>3</th>\n",
              "      <td>True</td>\n",
              "      <td>03 9, 2012</td>\n",
              "      <td>A39SRYB2M0Z5FG</td>\n",
              "      <td>B000Y30NAA</td>\n",
              "      <td>s.reeths</td>\n",
              "      <td>I thought I would give this pedal a try, becau...</td>\n",
              "      <td>save up for a better pedal</td>\n",
              "      <td>1331251200</td>\n",
              "      <td>NaN</td>\n",
              "      <td>{'Style:': ' CHORUS'}</td>\n",
              "      <td>NaN</td>\n",
              "    </tr>\n",
              "    <tr>\n",
              "      <th>4</th>\n",
              "      <td>True</td>\n",
              "      <td>02 3, 2013</td>\n",
              "      <td>A35A62ZXXKXHIW</td>\n",
              "      <td>B002N4ZBE6</td>\n",
              "      <td>Marine Docl</td>\n",
              "      <td>Been wanting to try one for over a year.  Good...</td>\n",
              "      <td>Big Six</td>\n",
              "      <td>1359849600</td>\n",
              "      <td>NaN</td>\n",
              "      <td>NaN</td>\n",
              "      <td>NaN</td>\n",
              "    </tr>\n",
              "    <tr>\n",
              "      <th>...</th>\n",
              "      <td>...</td>\n",
              "      <td>...</td>\n",
              "      <td>...</td>\n",
              "      <td>...</td>\n",
              "      <td>...</td>\n",
              "      <td>...</td>\n",
              "      <td>...</td>\n",
              "      <td>...</td>\n",
              "      <td>...</td>\n",
              "      <td>...</td>\n",
              "      <td>...</td>\n",
              "    </tr>\n",
              "    <tr>\n",
              "      <th>9995</th>\n",
              "      <td>True</td>\n",
              "      <td>09 30, 2015</td>\n",
              "      <td>A3QXBRMHPZPIIP</td>\n",
              "      <td>B00GTVF6VC</td>\n",
              "      <td>Julie</td>\n",
              "      <td>I took it off my guitar! I would rather look a...</td>\n",
              "      <td>Save your money!!</td>\n",
              "      <td>1443571200</td>\n",
              "      <td>7.0</td>\n",
              "      <td>NaN</td>\n",
              "      <td>NaN</td>\n",
              "    </tr>\n",
              "    <tr>\n",
              "      <th>9996</th>\n",
              "      <td>True</td>\n",
              "      <td>12 22, 2017</td>\n",
              "      <td>A3CN2KXSYK5HSX</td>\n",
              "      <td>B0002KZDN2</td>\n",
              "      <td>Manth</td>\n",
              "      <td>Better than the stock part on non-USA made gui...</td>\n",
              "      <td>Four Stars</td>\n",
              "      <td>1513900800</td>\n",
              "      <td>NaN</td>\n",
              "      <td>NaN</td>\n",
              "      <td>NaN</td>\n",
              "    </tr>\n",
              "    <tr>\n",
              "      <th>9997</th>\n",
              "      <td>True</td>\n",
              "      <td>03 29, 2011</td>\n",
              "      <td>AVO7MT1IJAM31</td>\n",
              "      <td>B0026IC6S8</td>\n",
              "      <td>GM</td>\n",
              "      <td>I'm updating this review after using the violi...</td>\n",
              "      <td>First Violin Purchase</td>\n",
              "      <td>1301356800</td>\n",
              "      <td>27.0</td>\n",
              "      <td>{'Size:': ' 4/4', 'Color:': ' Traditional Brow...</td>\n",
              "      <td>NaN</td>\n",
              "    </tr>\n",
              "    <tr>\n",
              "      <th>9998</th>\n",
              "      <td>False</td>\n",
              "      <td>04 30, 2014</td>\n",
              "      <td>A1XIPYWY6LXKAO</td>\n",
              "      <td>B0042GBDLI</td>\n",
              "      <td>Patrick W. Schubert</td>\n",
              "      <td>A lot of sound research and engineering go int...</td>\n",
              "      <td>Another winner from Hardwire!</td>\n",
              "      <td>1398816000</td>\n",
              "      <td>3.0</td>\n",
              "      <td>NaN</td>\n",
              "      <td>NaN</td>\n",
              "    </tr>\n",
              "    <tr>\n",
              "      <th>9999</th>\n",
              "      <td>True</td>\n",
              "      <td>02 18, 2016</td>\n",
              "      <td>ARMHWX2IXKD6S</td>\n",
              "      <td>B005H3TH4A</td>\n",
              "      <td>Julie Austin</td>\n",
              "      <td>This is my second stand like this. Looks reall...</td>\n",
              "      <td>Five Stars</td>\n",
              "      <td>1455753600</td>\n",
              "      <td>NaN</td>\n",
              "      <td>NaN</td>\n",
              "      <td>NaN</td>\n",
              "    </tr>\n",
              "  </tbody>\n",
              "</table>\n",
              "<p>10000 rows × 11 columns</p>\n",
              "</div>\n",
              "      <button class=\"colab-df-convert\" onclick=\"convertToInteractive('df-08ab184f-b359-4431-94e6-f8eb0dcbe925')\"\n",
              "              title=\"Convert this dataframe to an interactive table.\"\n",
              "              style=\"display:none;\">\n",
              "        \n",
              "  <svg xmlns=\"http://www.w3.org/2000/svg\" height=\"24px\"viewBox=\"0 0 24 24\"\n",
              "       width=\"24px\">\n",
              "    <path d=\"M0 0h24v24H0V0z\" fill=\"none\"/>\n",
              "    <path d=\"M18.56 5.44l.94 2.06.94-2.06 2.06-.94-2.06-.94-.94-2.06-.94 2.06-2.06.94zm-11 1L8.5 8.5l.94-2.06 2.06-.94-2.06-.94L8.5 2.5l-.94 2.06-2.06.94zm10 10l.94 2.06.94-2.06 2.06-.94-2.06-.94-.94-2.06-.94 2.06-2.06.94z\"/><path d=\"M17.41 7.96l-1.37-1.37c-.4-.4-.92-.59-1.43-.59-.52 0-1.04.2-1.43.59L10.3 9.45l-7.72 7.72c-.78.78-.78 2.05 0 2.83L4 21.41c.39.39.9.59 1.41.59.51 0 1.02-.2 1.41-.59l7.78-7.78 2.81-2.81c.8-.78.8-2.07 0-2.86zM5.41 20L4 18.59l7.72-7.72 1.47 1.35L5.41 20z\"/>\n",
              "  </svg>\n",
              "      </button>\n",
              "      \n",
              "  <style>\n",
              "    .colab-df-container {\n",
              "      display:flex;\n",
              "      flex-wrap:wrap;\n",
              "      gap: 12px;\n",
              "    }\n",
              "\n",
              "    .colab-df-convert {\n",
              "      background-color: #E8F0FE;\n",
              "      border: none;\n",
              "      border-radius: 50%;\n",
              "      cursor: pointer;\n",
              "      display: none;\n",
              "      fill: #1967D2;\n",
              "      height: 32px;\n",
              "      padding: 0 0 0 0;\n",
              "      width: 32px;\n",
              "    }\n",
              "\n",
              "    .colab-df-convert:hover {\n",
              "      background-color: #E2EBFA;\n",
              "      box-shadow: 0px 1px 2px rgba(60, 64, 67, 0.3), 0px 1px 3px 1px rgba(60, 64, 67, 0.15);\n",
              "      fill: #174EA6;\n",
              "    }\n",
              "\n",
              "    [theme=dark] .colab-df-convert {\n",
              "      background-color: #3B4455;\n",
              "      fill: #D2E3FC;\n",
              "    }\n",
              "\n",
              "    [theme=dark] .colab-df-convert:hover {\n",
              "      background-color: #434B5C;\n",
              "      box-shadow: 0px 1px 3px 1px rgba(0, 0, 0, 0.15);\n",
              "      filter: drop-shadow(0px 1px 2px rgba(0, 0, 0, 0.3));\n",
              "      fill: #FFFFFF;\n",
              "    }\n",
              "  </style>\n",
              "\n",
              "      <script>\n",
              "        const buttonEl =\n",
              "          document.querySelector('#df-08ab184f-b359-4431-94e6-f8eb0dcbe925 button.colab-df-convert');\n",
              "        buttonEl.style.display =\n",
              "          google.colab.kernel.accessAllowed ? 'block' : 'none';\n",
              "\n",
              "        async function convertToInteractive(key) {\n",
              "          const element = document.querySelector('#df-08ab184f-b359-4431-94e6-f8eb0dcbe925');\n",
              "          const dataTable =\n",
              "            await google.colab.kernel.invokeFunction('convertToInteractive',\n",
              "                                                     [key], {});\n",
              "          if (!dataTable) return;\n",
              "\n",
              "          const docLinkHtml = 'Like what you see? Visit the ' +\n",
              "            '<a target=\"_blank\" href=https://colab.research.google.com/notebooks/data_table.ipynb>data table notebook</a>'\n",
              "            + ' to learn more about interactive tables.';\n",
              "          element.innerHTML = '';\n",
              "          dataTable['output_type'] = 'display_data';\n",
              "          await google.colab.output.renderOutput(dataTable, element);\n",
              "          const docLink = document.createElement('div');\n",
              "          docLink.innerHTML = docLinkHtml;\n",
              "          element.appendChild(docLink);\n",
              "        }\n",
              "      </script>\n",
              "    </div>\n",
              "  </div>\n",
              "  "
            ]
          },
          "metadata": {},
          "execution_count": 7
        }
      ]
    },
    {
      "cell_type": "markdown",
      "source": [
        "Show how many unique labels to classify."
      ],
      "metadata": {
        "id": "zLB_AQC5jHpP"
      }
    },
    {
      "cell_type": "code",
      "source": [
        "# get unique rating\n",
        "training_data['rating'].unique()"
      ],
      "metadata": {
        "colab": {
          "base_uri": "https://localhost:8080/"
        },
        "id": "lBFlT2L70QEe",
        "outputId": "5a087ffb-4e09-440b-d3ff-3ff2f3340205"
      },
      "execution_count": 8,
      "outputs": [
        {
          "output_type": "execute_result",
          "data": {
            "text/plain": [
              "array(['positive', 'neutral', 'negative'], dtype=object)"
            ]
          },
          "metadata": {},
          "execution_count": 8
        }
      ]
    },
    {
      "cell_type": "markdown",
      "source": [
        "To train the review text, I change to its column to string type."
      ],
      "metadata": {
        "id": "pboUOPDdkxpt"
      }
    },
    {
      "cell_type": "code",
      "source": [
        "# cast the data type of reviewText to string\n",
        "training_data.reviewText = training_data.reviewText.astype(str)"
      ],
      "metadata": {
        "id": "7-t_GPU513Uv"
      },
      "execution_count": 9,
      "outputs": []
    },
    {
      "cell_type": "markdown",
      "source": [
        "I also change the value of labels into number."
      ],
      "metadata": {
        "id": "RMSFUZWfk-cT"
      }
    },
    {
      "cell_type": "code",
      "source": [
        "data_text = training_data.reviewText\n",
        "data_label = training_data.rating\n",
        "# Need to change because we have more than 2 values for sentiment\n",
        "data_label = training_data['rating'].apply(lambda x: 0 if x == 'negative' else 1 if x == 'neutral' else 2)\n",
        "data_text"
      ],
      "metadata": {
        "colab": {
          "base_uri": "https://localhost:8080/"
        },
        "id": "Q-DlwBZG0UZb",
        "outputId": "0b7e75db-100b-4a51-aec7-f5012cfdd224"
      },
      "execution_count": 10,
      "outputs": [
        {
          "output_type": "execute_result",
          "data": {
            "text/plain": [
              "0                Have 30 of these in operation great lights\n",
              "1         Good replacement.  I prefer my Rovner L5, but ...\n",
              "2         My son & band teacher loves it. Really nice. B...\n",
              "3         This was a gift for a friend who is a fan of t...\n",
              "4         Wish it would attach to my violin a little eas...\n",
              "                                ...                        \n",
              "221387    Still hard to beat D'Addario. Hope they keep i...\n",
              "221388    Ortofon hits the nail right on the head with t...\n",
              "221389    This is my absolute favorite guitar strap amon...\n",
              "221390                                                 nice\n",
              "221391    This polishing cloth is well-made and a great ...\n",
              "Name: reviewText, Length: 221392, dtype: object"
            ]
          },
          "metadata": {},
          "execution_count": 10
        }
      ]
    },
    {
      "cell_type": "markdown",
      "source": [
        "##### **Pre-processing the data text**"
      ],
      "metadata": {
        "id": "PTWOYCxvpRw4"
      }
    },
    {
      "cell_type": "markdown",
      "source": [
        "Tokenized the text into sequences of integers"
      ],
      "metadata": {
        "id": "G2ypuK1bmi2-"
      }
    },
    {
      "cell_type": "code",
      "source": [
        "from keras.preprocessing.text import Tokenizer\n",
        "tokenizer = Tokenizer(num_words = 20000)\n",
        "#build the word index\n",
        "tokenizer.fit_on_texts(data_text)\n",
        "# now convert the words to integers\n",
        "data_sequences = tokenizer.texts_to_sequences(data_text)\n",
        "data_sequences[0]"
      ],
      "metadata": {
        "colab": {
          "base_uri": "https://localhost:8080/"
        },
        "id": "w6LkyQmg07Au",
        "outputId": "fc6ec529-09c0-458d-a259-c26dfeae28a6"
      },
      "execution_count": 11,
      "outputs": [
        {
          "output_type": "execute_result",
          "data": {
            "text/plain": [
              "[18, 534, 9, 25, 13, 2199, 22, 570]"
            ]
          },
          "metadata": {},
          "execution_count": 11
        }
      ]
    },
    {
      "cell_type": "markdown",
      "source": [
        "Limited each text to 50 words"
      ],
      "metadata": {
        "id": "T8a0xYj9mmXh"
      }
    },
    {
      "cell_type": "code",
      "source": [
        "# Cut texts after this number of words \n",
        "# (among top max_features most common words)\n",
        "maxlen = 50\n",
        "\n",
        "from keras.utils import pad_sequences\n",
        "\n",
        "# This turns our lists of integers\n",
        "# into a 2D integer tensor of shape `(samples, maxlen)`\n",
        "data50 = pad_sequences(data_sequences, maxlen=maxlen)\n",
        "data50[0]"
      ],
      "metadata": {
        "colab": {
          "base_uri": "https://localhost:8080/"
        },
        "id": "hqUdY8s81A_B",
        "outputId": "7a44d3e2-28f9-46ca-9929-a0e3d94cc775"
      },
      "execution_count": 12,
      "outputs": [
        {
          "output_type": "execute_result",
          "data": {
            "text/plain": [
              "array([   0,    0,    0,    0,    0,    0,    0,    0,    0,    0,    0,\n",
              "          0,    0,    0,    0,    0,    0,    0,    0,    0,    0,    0,\n",
              "          0,    0,    0,    0,    0,    0,    0,    0,    0,    0,    0,\n",
              "          0,    0,    0,    0,    0,    0,    0,    0,    0,   18,  534,\n",
              "          9,   25,   13, 2199,   22,  570], dtype=int32)"
            ]
          },
          "metadata": {},
          "execution_count": 12
        }
      ]
    },
    {
      "cell_type": "markdown",
      "source": [
        "##### **Divide the sequences and labels into training and testing data**"
      ],
      "metadata": {
        "id": "LC8BuLxgmDSX"
      }
    },
    {
      "cell_type": "code",
      "source": [
        "from sklearn.model_selection import train_test_split\n",
        "train50, test50, train_labels, test_labels = train_test_split(data50, data_label, test_size = 0.2, random_state=42)\n",
        "test_labels"
      ],
      "metadata": {
        "colab": {
          "base_uri": "https://localhost:8080/"
        },
        "id": "MTUt5Ec22JYt",
        "outputId": "90108854-6e80-4310-b2ae-b2a184aa37f5"
      },
      "execution_count": 13,
      "outputs": [
        {
          "output_type": "execute_result",
          "data": {
            "text/plain": [
              "5028      0\n",
              "133605    2\n",
              "182161    2\n",
              "137498    2\n",
              "122233    1\n",
              "         ..\n",
              "45935     2\n",
              "5691      2\n",
              "83947     2\n",
              "214291    1\n",
              "8033      1\n",
              "Name: rating, Length: 44279, dtype: int64"
            ]
          },
          "metadata": {},
          "execution_count": 13
        }
      ]
    },
    {
      "cell_type": "markdown",
      "source": [
        "Categorical the labels"
      ],
      "metadata": {
        "id": "K2tR9nC-mQmv"
      }
    },
    {
      "cell_type": "code",
      "source": [
        "from keras.utils import to_categorical\n",
        "\n",
        "#train_labels = to_categorical(train_labels)\n",
        "#test_labels = to_categorical(test_labels)\n",
        "\n",
        "# cast label into categorical for fitting and evaluating\n",
        "categorical_train_labels = to_categorical(train_labels)\n",
        "categorical_test_labels = to_categorical(test_labels)"
      ],
      "metadata": {
        "id": "vxWlBxuD2D-f"
      },
      "execution_count": 14,
      "outputs": []
    },
    {
      "cell_type": "markdown",
      "source": [
        "------"
      ],
      "metadata": {
        "id": "5dp8Pk5o2qc4"
      }
    },
    {
      "cell_type": "markdown",
      "source": [
        "##### **I am going to work on pre-trained word embeddings**"
      ],
      "metadata": {
        "id": "DsNxuFpOmfXg"
      }
    },
    {
      "cell_type": "markdown",
      "source": [
        "Download the GloVe word embeddings"
      ],
      "metadata": {
        "id": "Qd0O0Duqm3XI"
      }
    },
    {
      "cell_type": "code",
      "source": [
        "# download the GloVe word embeddings\n",
        "!curl http://zacharski.org/files/courses/cs419/glove.6B.100d.zip > glove.6B.100d.zip\n",
        "!ls"
      ],
      "metadata": {
        "colab": {
          "base_uri": "https://localhost:8080/"
        },
        "id": "rQJr7ZqY2rya",
        "outputId": "3a025c6e-da36-4556-fe64-a4ed32838c7a"
      },
      "execution_count": 15,
      "outputs": [
        {
          "output_type": "stream",
          "name": "stdout",
          "text": [
            "  % Total    % Received % Xferd  Average Speed   Time    Time     Time  Current\n",
            "                                 Dload  Upload   Total   Spent    Left  Speed\n",
            "100  128M  100  128M    0     0  11.4M      0  0:00:11  0:00:11 --:--:-- 13.7M\n",
            "amazonReviewsTest.csv\tamazonReviewsTrain.csv.zip  sample_data\n",
            "amazonReviewsTrain.csv\tglove.6B.100d.zip\n"
          ]
        }
      ]
    },
    {
      "cell_type": "markdown",
      "source": [
        "Unzip it."
      ],
      "metadata": {
        "id": "7LiGshrmm7B_"
      }
    },
    {
      "cell_type": "code",
      "source": [
        "# unzip it\n",
        "!unzip glove.6B.100d.zip"
      ],
      "metadata": {
        "colab": {
          "base_uri": "https://localhost:8080/"
        },
        "id": "8pzFM1ra2ukJ",
        "outputId": "ed552b3e-0728-43a5-a365-4879d1ae04c0"
      },
      "execution_count": 16,
      "outputs": [
        {
          "output_type": "stream",
          "name": "stdout",
          "text": [
            "Archive:  glove.6B.100d.zip\n",
            "  inflating: glove.6B.100d.txt       \n"
          ]
        }
      ]
    },
    {
      "cell_type": "markdown",
      "source": [
        "**Pre-process the embeddings**\n",
        "\n",
        "Parse the un-zipped file (it's a txt file) to build an index mapping words (as strings) to their vector representation (as number vectors)."
      ],
      "metadata": {
        "id": "Yc--Blc-nDcb"
      }
    },
    {
      "cell_type": "code",
      "source": [
        "# Credit: Prof. Ron Zacharski\n",
        "# These steps to build an embedding_index\n",
        "import numpy as np\n",
        "\n",
        "embeddings_index = {}\n",
        "f = open('glove.6B.100d.txt')\n",
        "for line in f:\n",
        "    values = line.split()\n",
        "    word = values[0]\n",
        "    coefs = np.asarray(values[1:], dtype='float32')\n",
        "    embeddings_index[word] = coefs\n",
        "f.close()\n",
        "\n",
        "print('Found %s word vectors.' % len(embeddings_index))"
      ],
      "metadata": {
        "colab": {
          "base_uri": "https://localhost:8080/"
        },
        "id": "7f6q9q6F2x1O",
        "outputId": "88898941-d6a1-4002-c2b2-0b01be1ce281"
      },
      "execution_count": 17,
      "outputs": [
        {
          "output_type": "stream",
          "name": "stdout",
          "text": [
            "Found 400000 word vectors.\n"
          ]
        }
      ]
    },
    {
      "cell_type": "markdown",
      "source": [
        "Build an embedding matrix to be able to load into an Embedding layer."
      ],
      "metadata": {
        "id": "zesbbtl1nQu4"
      }
    },
    {
      "cell_type": "code",
      "source": [
        "# Credit: Prof. Ron Zacharski\n",
        "# These steps to build an embedding_matrix\n",
        "embedding_dim = 100\n",
        "max_words = 20000\n",
        "word_index = tokenizer.word_index\n",
        "\n",
        "embedding_matrix = np.zeros((max_words, embedding_dim))\n",
        "for word, i in word_index.items():\n",
        "    embedding_vector = embeddings_index.get(word)\n",
        "    if i < max_words:\n",
        "        if embedding_vector is not None:\n",
        "            # Words not found in embedding index will be all-zeros.\n",
        "            embedding_matrix[i] = embedding_vector"
      ],
      "metadata": {
        "id": "ectpLVI222C-"
      },
      "execution_count": 18,
      "outputs": []
    },
    {
      "cell_type": "markdown",
      "source": [
        "-----\n"
      ],
      "metadata": {
        "id": "icA_BUZq2pAp"
      }
    },
    {
      "cell_type": "markdown",
      "source": [
        "The next process will be to build model, compile, and fit the training data set."
      ],
      "metadata": {
        "id": "lhLkZ7Ilp0IO"
      }
    },
    {
      "cell_type": "markdown",
      "source": [
        "##### **Define a model**"
      ],
      "metadata": {
        "id": "fmX8JffhnXK4"
      }
    },
    {
      "cell_type": "code",
      "source": [
        "from keras import layers\n",
        "from keras.models import Sequential\n",
        "from keras.layers import Flatten, Dense, Embedding\n",
        "\n",
        "model = Sequential()\n",
        "model.add(Embedding(max_words, embedding_dim, input_length=maxlen))\n",
        "model.add(layers.Conv1D(filters=64, kernel_size=3, activation='relu'))\n",
        "model.add(layers.Conv1D(filters=64, kernel_size=3, activation='relu'))\n",
        "model.add(layers.Dropout(0.5))\n",
        "model.add(layers.MaxPooling1D(pool_size=2))\n",
        "model.add(Flatten())\n",
        "model.add(Dense(32, activation='relu'))\n",
        "model.add(Dense(3, activation='softmax'))\n",
        "model.summary()"
      ],
      "metadata": {
        "colab": {
          "base_uri": "https://localhost:8080/"
        },
        "id": "PMRI939R2Rjz",
        "outputId": "6e9b17af-c131-49dc-d05f-57d9b574fae7"
      },
      "execution_count": 19,
      "outputs": [
        {
          "output_type": "stream",
          "name": "stdout",
          "text": [
            "Model: \"sequential\"\n",
            "_________________________________________________________________\n",
            " Layer (type)                Output Shape              Param #   \n",
            "=================================================================\n",
            " embedding (Embedding)       (None, 50, 100)           2000000   \n",
            "                                                                 \n",
            " conv1d (Conv1D)             (None, 48, 64)            19264     \n",
            "                                                                 \n",
            " conv1d_1 (Conv1D)           (None, 46, 64)            12352     \n",
            "                                                                 \n",
            " dropout (Dropout)           (None, 46, 64)            0         \n",
            "                                                                 \n",
            " max_pooling1d (MaxPooling1D  (None, 23, 64)           0         \n",
            " )                                                               \n",
            "                                                                 \n",
            " flatten (Flatten)           (None, 1472)              0         \n",
            "                                                                 \n",
            " dense (Dense)               (None, 32)                47136     \n",
            "                                                                 \n",
            " dense_1 (Dense)             (None, 3)                 99        \n",
            "                                                                 \n",
            "=================================================================\n",
            "Total params: 2,078,851\n",
            "Trainable params: 2,078,851\n",
            "Non-trainable params: 0\n",
            "_________________________________________________________________\n"
          ]
        }
      ]
    },
    {
      "cell_type": "markdown",
      "source": [
        "Load the GloVe matrix that already prepared into Embedding layer. \n",
        "\n",
        "Not freeze the embedding layer also to continue to refine the embeddings using the training data."
      ],
      "metadata": {
        "id": "vl4rLXVvngxN"
      }
    },
    {
      "cell_type": "code",
      "source": [
        "# load GloVe matrix to the Embedding layer\n",
        "model.layers[0].set_weights([embedding_matrix])\n",
        "model.layers[0].trainable = True"
      ],
      "metadata": {
        "id": "kiFRSUU627m0"
      },
      "execution_count": 20,
      "outputs": []
    },
    {
      "cell_type": "markdown",
      "source": [
        "Let's compile and fit the model."
      ],
      "metadata": {
        "id": "Tz5qibbNn_AX"
      }
    },
    {
      "cell_type": "code",
      "source": [
        "model.compile(optimizer='rmsprop',\n",
        "              loss='categorical_crossentropy',\n",
        "              metrics=['acc'])\n",
        "history = model.fit(train50, categorical_train_labels,\n",
        "                    epochs=10,\n",
        "                    batch_size=32,\n",
        "                    validation_split=0.2,\n",
        "                    validation_steps=50)"
      ],
      "metadata": {
        "colab": {
          "base_uri": "https://localhost:8080/"
        },
        "id": "QxGSO1lg3DLi",
        "outputId": "37fdf76a-6f64-4743-d89c-baaa94059ae1"
      },
      "execution_count": 21,
      "outputs": [
        {
          "output_type": "stream",
          "name": "stdout",
          "text": [
            "Epoch 1/10\n",
            "4428/4428 [==============================] - 64s 12ms/step - loss: 0.3966 - acc: 0.8702 - val_loss: 0.3881 - val_acc: 0.8631\n",
            "Epoch 2/10\n",
            "4428/4428 [==============================] - 22s 5ms/step - loss: 0.3554 - acc: 0.8807 - val_loss: 0.3587 - val_acc: 0.8694\n",
            "Epoch 3/10\n",
            "4428/4428 [==============================] - 21s 5ms/step - loss: 0.3404 - acc: 0.8857 - val_loss: 0.3940 - val_acc: 0.8719\n",
            "Epoch 4/10\n",
            "4428/4428 [==============================] - 20s 5ms/step - loss: 0.3328 - acc: 0.8885 - val_loss: 0.3462 - val_acc: 0.8744\n",
            "Epoch 5/10\n",
            "4428/4428 [==============================] - 20s 5ms/step - loss: 0.3297 - acc: 0.8900 - val_loss: 0.3381 - val_acc: 0.8800\n",
            "Epoch 6/10\n",
            "4428/4428 [==============================] - 21s 5ms/step - loss: 0.3285 - acc: 0.8903 - val_loss: 0.3421 - val_acc: 0.8825\n",
            "Epoch 7/10\n",
            "4428/4428 [==============================] - 19s 4ms/step - loss: 0.3315 - acc: 0.8908 - val_loss: 0.3366 - val_acc: 0.8825\n",
            "Epoch 8/10\n",
            "4428/4428 [==============================] - 20s 5ms/step - loss: 0.3269 - acc: 0.8914 - val_loss: 0.3545 - val_acc: 0.8687\n",
            "Epoch 9/10\n",
            "4428/4428 [==============================] - 20s 4ms/step - loss: 0.3297 - acc: 0.8915 - val_loss: 0.3409 - val_acc: 0.8850\n",
            "Epoch 10/10\n",
            "4428/4428 [==============================] - 20s 4ms/step - loss: 0.3377 - acc: 0.8920 - val_loss: 0.3818 - val_acc: 0.8806\n"
          ]
        }
      ]
    },
    {
      "cell_type": "markdown",
      "source": [
        "I would like to draw the graph to see how it works, and how much overfitting occurred."
      ],
      "metadata": {
        "id": "8t0aH33NoCHM"
      }
    },
    {
      "cell_type": "code",
      "source": [
        "import matplotlib.pyplot as plt\n",
        "\n",
        "acc = history.history['acc']\n",
        "val_acc = history.history['val_acc']\n",
        "loss = history.history['loss']\n",
        "val_loss = history.history['val_loss']\n",
        "\n",
        "epochs = range(1, len(acc) + 1)\n",
        "\n",
        "plt.plot(epochs, acc, 'bo', label='Training acc')\n",
        "plt.plot(epochs, val_acc, 'b', label='Validation acc')\n",
        "plt.title('Training and validation accuracy')\n",
        "plt.legend()\n",
        "\n",
        "plt.figure()\n",
        "\n",
        "plt.plot(epochs, loss, 'bo', label='Training loss')\n",
        "plt.plot(epochs, val_loss, 'b', label='Validation loss')\n",
        "plt.title('Training and validation loss')\n",
        "plt.legend()\n",
        "\n",
        "plt.show()"
      ],
      "metadata": {
        "colab": {
          "base_uri": "https://localhost:8080/",
          "height": 887
        },
        "id": "37DNvhZu3KYD",
        "outputId": "1b902300-f2ce-42cf-838a-72b289742d0c"
      },
      "execution_count": 22,
      "outputs": [
        {
          "output_type": "display_data",
          "data": {
            "text/plain": [
              "<Figure size 640x480 with 1 Axes>"
            ],
            "image/png": "[encoded data removed]"
          },
          "metadata": {}
        },
        {
          "output_type": "display_data",
          "data": {
            "text/plain": [
              "<Figure size 640x480 with 1 Axes>"
            ],
            "image/png": "[encoded data removed]"
          },
          "metadata": {}
        }
      ]
    },
    {
      "cell_type": "markdown",
      "source": [
        "##### **Evaluate to get the accuracy and loss**"
      ],
      "metadata": {
        "id": "j_JHE5LxoMsz"
      }
    },
    {
      "cell_type": "code",
      "source": [
        "test_loss, test_acc, = model.evaluate(test50, categorical_test_labels)\n",
        "print(\"Accuracy %f    Loss: %f\" % (test_acc, test_loss))"
      ],
      "metadata": {
        "colab": {
          "base_uri": "https://localhost:8080/"
        },
        "id": "hhRZeV1M3Lu5",
        "outputId": "7bdeb88b-1324-44bc-db38-46d0e0a586a6"
      },
      "execution_count": 23,
      "outputs": [
        {
          "output_type": "stream",
          "name": "stdout",
          "text": [
            "1384/1384 [==============================] - 3s 3ms/step - loss: 0.3900 - acc: 0.8907\n",
            "Accuracy 0.890693    Loss: 0.390006\n"
          ]
        }
      ]
    },
    {
      "cell_type": "markdown",
      "source": [
        "#### **4) Re-check the evaluation**\n",
        "\n",
        "Basically I can use my model to export file to submit. However, before I do that, I want to make sure that my export txt file has to be correct.\n",
        "\n",
        "Therefore, I will do the steps to get the list of labels for the above test50 (I assume that I have not known the test_labels)"
      ],
      "metadata": {
        "id": "kVjtTogKoRyP"
      }
    },
    {
      "cell_type": "markdown",
      "source": [
        "I'm going to predict on test50"
      ],
      "metadata": {
        "id": "N7fzB2CI_-Fe"
      }
    },
    {
      "cell_type": "code",
      "source": [
        "# get predictions result\n",
        "test50_predictions = model.predict(test50)\n",
        "test50_predictions"
      ],
      "metadata": {
        "colab": {
          "base_uri": "https://localhost:8080/"
        },
        "id": "_ko7XryVAFWr",
        "outputId": "9e6eebe8-d7be-4361-9512-295ec2764a77"
      },
      "execution_count": 24,
      "outputs": [
        {
          "output_type": "stream",
          "name": "stdout",
          "text": [
            "1384/1384 [==============================] - 2s 2ms/step\n"
          ]
        },
        {
          "output_type": "execute_result",
          "data": {
            "text/plain": [
              "array([[6.13192767e-02, 1.26130402e-01, 8.12550366e-01],\n",
              "       [1.21109625e-02, 4.74768318e-02, 9.40412164e-01],\n",
              "       [2.75614962e-04, 1.87547896e-02, 9.80969548e-01],\n",
              "       ...,\n",
              "       [6.08676619e-17, 2.82769475e-10, 1.00000000e+00],\n",
              "       [2.23340213e-01, 2.56281674e-01, 5.20378113e-01],\n",
              "       [1.72371671e-01, 2.43366927e-01, 5.84261417e-01]], dtype=float32)"
            ]
          },
          "metadata": {},
          "execution_count": 24
        }
      ]
    },
    {
      "cell_type": "markdown",
      "source": [
        "This function convert predictions to labels by choosing the best probability and then map to the corresponding label."
      ],
      "metadata": {
        "id": "mGxamUTaqZYa"
      }
    },
    {
      "cell_type": "code",
      "source": [
        "def convert_predictions_to_labels(predictions):\n",
        "  # create a dictionary mapping label indices to label names\n",
        "  label_map = {0: 'negative', 1: 'neutral', 2: 'positive'}\n",
        "  \n",
        "  # convert each predicted probability to its corresponding label name\n",
        "  labels = [label_map[np.argmax(prediction)] for prediction in predictions]\n",
        "  \n",
        "  return labels"
      ],
      "metadata": {
        "id": "r6vLawc9-qRK"
      },
      "execution_count": 25,
      "outputs": []
    },
    {
      "cell_type": "code",
      "source": [
        "# get label from test50 predictions\n",
        "test50_predicted_label = convert_predictions_to_labels(test50_predictions)"
      ],
      "metadata": {
        "id": "zXefX6stARWj"
      },
      "execution_count": 26,
      "outputs": []
    },
    {
      "cell_type": "code",
      "source": [
        "test50_predicted_label"
      ],
      "metadata": {
        "id": "yBUChX_ZAnJO"
      },
      "execution_count": null,
      "outputs": []
    },
    {
      "cell_type": "code",
      "source": [
        "test_labels"
      ],
      "metadata": {
        "colab": {
          "base_uri": "https://localhost:8080/"
        },
        "id": "_j0g44gIAqSE",
        "outputId": "1d02b94f-d604-41fb-b1b0-ce303135ce07"
      },
      "execution_count": 28,
      "outputs": [
        {
          "output_type": "execute_result",
          "data": {
            "text/plain": [
              "5028      0\n",
              "133605    2\n",
              "182161    2\n",
              "137498    2\n",
              "122233    1\n",
              "         ..\n",
              "45935     2\n",
              "5691      2\n",
              "83947     2\n",
              "214291    1\n",
              "8033      1\n",
              "Name: rating, Length: 44279, dtype: int64"
            ]
          },
          "metadata": {},
          "execution_count": 28
        }
      ]
    },
    {
      "cell_type": "markdown",
      "source": [
        "Here is the test_labels."
      ],
      "metadata": {
        "id": "-8O9_CHKqold"
      }
    },
    {
      "cell_type": "code",
      "source": [
        "import numpy as np\n",
        "\n",
        "label_map = {0: 'negative', 1: 'neutral', 2: 'positive'}\n",
        "label_names = test_labels.map(label_map)\n",
        "print(label_names)"
      ],
      "metadata": {
        "colab": {
          "base_uri": "https://localhost:8080/"
        },
        "id": "lVBLT3WJEURk",
        "outputId": "3e93586b-ef0c-4f22-b169-7b3b3126c759"
      },
      "execution_count": 29,
      "outputs": [
        {
          "output_type": "stream",
          "name": "stdout",
          "text": [
            "5028      negative\n",
            "133605    positive\n",
            "182161    positive\n",
            "137498    positive\n",
            "122233     neutral\n",
            "            ...   \n",
            "45935     positive\n",
            "5691      positive\n",
            "83947     positive\n",
            "214291     neutral\n",
            "8033       neutral\n",
            "Name: rating, Length: 44279, dtype: object\n"
          ]
        }
      ]
    },
    {
      "cell_type": "markdown",
      "source": [
        "From list of labels and series of test_labels (when doing the train_test_split), I count how many choices are correct."
      ],
      "metadata": {
        "id": "Q58yidztqs35"
      }
    },
    {
      "cell_type": "code",
      "source": [
        "# Count how many match choices between list and series (testing_labels)\n",
        "def count_matching_word(s, word_list):\n",
        "  count = 0\n",
        "  s = s.reset_index(drop=True)\n",
        "  for i in range(len(word_list)):\n",
        "    if (s[i] == word_list[i]):\n",
        "      count += 1\n",
        "  return count"
      ],
      "metadata": {
        "id": "cR4JwO5iIAWf"
      },
      "execution_count": 30,
      "outputs": []
    },
    {
      "cell_type": "code",
      "source": [
        "matches = count_matching_word(label_names, test50_predicted_label)\n",
        "print(matches)"
      ],
      "metadata": {
        "colab": {
          "base_uri": "https://localhost:8080/"
        },
        "id": "i7mSx2vVIQtm",
        "outputId": "092cb0b0-8c71-4112-f5e2-0c43c7a31fd6"
      },
      "execution_count": 31,
      "outputs": [
        {
          "output_type": "stream",
          "name": "stdout",
          "text": [
            "39439\n"
          ]
        }
      ]
    },
    {
      "cell_type": "code",
      "source": [
        "39439/44279"
      ],
      "metadata": {
        "colab": {
          "base_uri": "https://localhost:8080/"
        },
        "id": "NV8Mwovoq_kN",
        "outputId": "12f04be2-7a03-4b6a-899f-e09296200b51"
      },
      "execution_count": 32,
      "outputs": [
        {
          "output_type": "execute_result",
          "data": {
            "text/plain": [
              "0.8906931050836739"
            ]
          },
          "metadata": {},
          "execution_count": 32
        }
      ]
    },
    {
      "cell_type": "markdown",
      "source": [
        "89.0693% is match with the result we used evaluate function. So, I think the functions are fine."
      ],
      "metadata": {
        "id": "lpQJuNTGq8Uh"
      }
    },
    {
      "cell_type": "markdown",
      "source": [
        "#### **5) Try another Model to choose**"
      ],
      "metadata": {
        "id": "VzN19741uzu9"
      }
    },
    {
      "cell_type": "markdown",
      "source": [
        "The same steps but I change the model sequence a little bit."
      ],
      "metadata": {
        "id": "J8xoGAXOu-zH"
      }
    },
    {
      "cell_type": "code",
      "source": [
        "from keras import layers\n",
        "from keras.models import Sequential\n",
        "from keras.layers import Flatten, Dense, Embedding\n",
        "\n",
        "another_model = Sequential()\n",
        "another_model.add(Embedding(max_words, embedding_dim, input_length=maxlen))\n",
        "another_model.add(layers.Conv1D(filters=64, kernel_size=3, activation='relu'))\n",
        "another_model.add(layers.MaxPooling1D(pool_size=2))\n",
        "another_model.add(layers.Conv1D(filters=64, kernel_size=3, activation='relu'))\n",
        "another_model.add(layers.Dropout(0.5))\n",
        "another_model.add(layers.MaxPooling1D(pool_size=2))\n",
        "another_model.add(Flatten())\n",
        "another_model.add(Dense(32, activation='relu'))\n",
        "another_model.add(Dense(3, activation='softmax'))\n",
        "another_model.summary()"
      ],
      "metadata": {
        "colab": {
          "base_uri": "https://localhost:8080/"
        },
        "id": "6sLkKLU4u93O",
        "outputId": "50adba6c-5db3-4eeb-e72c-647491105a95"
      },
      "execution_count": 37,
      "outputs": [
        {
          "output_type": "stream",
          "name": "stdout",
          "text": [
            "Model: \"sequential_2\"\n",
            "_________________________________________________________________\n",
            " Layer (type)                Output Shape              Param #   \n",
            "=================================================================\n",
            " embedding_2 (Embedding)     (None, 50, 100)           2000000   \n",
            "                                                                 \n",
            " conv1d_4 (Conv1D)           (None, 48, 64)            19264     \n",
            "                                                                 \n",
            " max_pooling1d_3 (MaxPooling  (None, 24, 64)           0         \n",
            " 1D)                                                             \n",
            "                                                                 \n",
            " conv1d_5 (Conv1D)           (None, 22, 64)            12352     \n",
            "                                                                 \n",
            " dropout_3 (Dropout)         (None, 22, 64)            0         \n",
            "                                                                 \n",
            " max_pooling1d_4 (MaxPooling  (None, 11, 64)           0         \n",
            " 1D)                                                             \n",
            "                                                                 \n",
            " flatten_2 (Flatten)         (None, 704)               0         \n",
            "                                                                 \n",
            " dense_4 (Dense)             (None, 32)                22560     \n",
            "                                                                 \n",
            " dense_5 (Dense)             (None, 3)                 99        \n",
            "                                                                 \n",
            "=================================================================\n",
            "Total params: 2,054,275\n",
            "Trainable params: 2,054,275\n",
            "Non-trainable params: 0\n",
            "_________________________________________________________________\n"
          ]
        }
      ]
    },
    {
      "cell_type": "code",
      "source": [
        "another_model.layers[0].set_weights([embedding_matrix])\n",
        "another_model.layers[0].trainable = True"
      ],
      "metadata": {
        "id": "rOrzs9FQvmZo"
      },
      "execution_count": 38,
      "outputs": []
    },
    {
      "cell_type": "code",
      "source": [
        "another_model.compile(optimizer='rmsprop',\n",
        "              loss='categorical_crossentropy',\n",
        "              metrics=['acc'])\n",
        "another_history = another_model.fit(train50, categorical_train_labels,\n",
        "                    epochs=10,\n",
        "                    batch_size=32,\n",
        "                    validation_split=0.2,\n",
        "                    validation_steps=50)"
      ],
      "metadata": {
        "colab": {
          "base_uri": "https://localhost:8080/"
        },
        "id": "crxt_WRDvsOg",
        "outputId": "67a7bc5d-17ff-49ed-cfb9-3266da8a8df0"
      },
      "execution_count": 39,
      "outputs": [
        {
          "output_type": "stream",
          "name": "stdout",
          "text": [
            "Epoch 1/10\n",
            "4428/4428 [==============================] - 46s 10ms/step - loss: 0.3875 - acc: 0.8727 - val_loss: 0.3868 - val_acc: 0.8700\n",
            "Epoch 2/10\n",
            "4428/4428 [==============================] - 22s 5ms/step - loss: 0.3419 - acc: 0.8845 - val_loss: 0.3566 - val_acc: 0.8725\n",
            "Epoch 3/10\n",
            "4428/4428 [==============================] - 21s 5ms/step - loss: 0.3324 - acc: 0.8875 - val_loss: 0.3372 - val_acc: 0.8788\n",
            "Epoch 4/10\n",
            "4428/4428 [==============================] - 20s 4ms/step - loss: 0.3303 - acc: 0.8888 - val_loss: 0.3500 - val_acc: 0.8775\n",
            "Epoch 5/10\n",
            "4428/4428 [==============================] - 21s 5ms/step - loss: 0.3256 - acc: 0.8898 - val_loss: 0.3749 - val_acc: 0.8769\n",
            "Epoch 6/10\n",
            "4428/4428 [==============================] - 20s 5ms/step - loss: 0.3225 - acc: 0.8914 - val_loss: 0.3504 - val_acc: 0.8819\n",
            "Epoch 7/10\n",
            "4428/4428 [==============================] - 19s 4ms/step - loss: 0.3161 - acc: 0.8926 - val_loss: 0.3468 - val_acc: 0.8813\n",
            "Epoch 8/10\n",
            "4428/4428 [==============================] - 20s 4ms/step - loss: 0.3155 - acc: 0.8932 - val_loss: 0.3448 - val_acc: 0.8712\n",
            "Epoch 9/10\n",
            "4428/4428 [==============================] - 20s 4ms/step - loss: 0.3161 - acc: 0.8932 - val_loss: 0.3670 - val_acc: 0.8606\n",
            "Epoch 10/10\n",
            "4428/4428 [==============================] - 20s 4ms/step - loss: 0.3114 - acc: 0.8937 - val_loss: 0.3422 - val_acc: 0.8675\n"
          ]
        }
      ]
    },
    {
      "cell_type": "code",
      "source": [
        "another_test_loss, another_test_acc, = another_model.evaluate(test50, categorical_test_labels)\n",
        "print(\"Accuracy %f    Loss: %f\" % (another_test_acc, another_test_loss))"
      ],
      "metadata": {
        "colab": {
          "base_uri": "https://localhost:8080/"
        },
        "id": "krmx3_OqyXCo",
        "outputId": "0834a82e-9cce-43e6-917b-a0daee4636e0"
      },
      "execution_count": 40,
      "outputs": [
        {
          "output_type": "stream",
          "name": "stdout",
          "text": [
            "1384/1384 [==============================] - 5s 3ms/step - loss: 0.3414 - acc: 0.8900\n",
            "Accuracy 0.890038    Loss: 0.341434\n"
          ]
        }
      ]
    },
    {
      "cell_type": "markdown",
      "source": [
        "So, I decide to choose the first one."
      ],
      "metadata": {
        "id": "llY0mgop0ezs"
      }
    },
    {
      "cell_type": "markdown",
      "source": [
        "#### **6) Generating the TXT file**"
      ],
      "metadata": {
        "id": "Wzo2g8BGrRm4"
      }
    },
    {
      "cell_type": "markdown",
      "source": [
        "From what I research, I will use these function to generate predicted text."
      ],
      "metadata": {
        "id": "lQZI2oxVy-_Q"
      }
    },
    {
      "cell_type": "code",
      "source": [
        "testing_data_text = testing_data.reviewText\n",
        "testing_data_text"
      ],
      "metadata": {
        "colab": {
          "base_uri": "https://localhost:8080/"
        },
        "id": "ubMOwYWZzLeN",
        "outputId": "e0ea58f2-8dc3-4521-e131-31ecca23e42c"
      },
      "execution_count": 41,
      "outputs": [
        {
          "output_type": "execute_result",
          "data": {
            "text/plain": [
              "0       I am a (very amateur) EDM and Hip Hop Producer...\n",
              "1       These are pretty beefy strings even for black ...\n",
              "2       I've played every new \"improved\" string out th...\n",
              "3       I thought I would give this pedal a try, becau...\n",
              "4       Been wanting to try one for over a year.  Good...\n",
              "                              ...                        \n",
              "9995    I took it off my guitar! I would rather look a...\n",
              "9996    Better than the stock part on non-USA made gui...\n",
              "9997    I'm updating this review after using the violi...\n",
              "9998    A lot of sound research and engineering go int...\n",
              "9999    This is my second stand like this. Looks reall...\n",
              "Name: reviewText, Length: 10000, dtype: object"
            ]
          },
          "metadata": {},
          "execution_count": 41
        }
      ]
    },
    {
      "cell_type": "markdown",
      "source": [
        "##### **Pre-processing the testing data also**"
      ],
      "metadata": {
        "id": "fB9Tni70rYD7"
      }
    },
    {
      "cell_type": "markdown",
      "source": [
        "I just do the same step that we did for data_text (train50 & test50)"
      ],
      "metadata": {
        "id": "KgWktTq4rcUP"
      }
    },
    {
      "cell_type": "code",
      "source": [
        "from keras.preprocessing.text import Tokenizer\n",
        "from keras.utils import pad_sequences\n",
        "\n",
        "def tokenize_sequences(data):\n",
        "  maxlen = 50\n",
        "  tokenizer = Tokenizer()\n",
        "  tokenizer.fit_on_texts(data)\n",
        "  sequences = tokenizer.texts_to_sequences(data)\n",
        "  padded_sequences = pad_sequences(sequences, maxlen=maxlen)\n",
        "  return padded_sequences\n",
        "\n",
        "testing_sequences = tokenize_sequences(testing_data_text)\n",
        "testing_sequences[0]"
      ],
      "metadata": {
        "colab": {
          "base_uri": "https://localhost:8080/"
        },
        "id": "B3-uW2u-zmz_",
        "outputId": "6616da85-7ab2-4114-d0a9-09d89c1e4230"
      },
      "execution_count": 42,
      "outputs": [
        {
          "output_type": "execute_result",
          "data": {
            "text/plain": [
              "array([ 358,    4,   22,  403,  132,    5, 2523,   11,  953,   12,   11,\n",
              "         27,  122,  315,  247,   25,  264, 1899,   49,  507,  396, 1526,\n",
              "        354,   13,  847, 4845,  865, 2346,  235,   17,  246,   19,   58,\n",
              "        366,  107,    7,  366,  107,    7,  974, 2191, 1527,   12,  122,\n",
              "       2633, 1186,   69,  138, 2270,  342], dtype=int32)"
            ]
          },
          "metadata": {},
          "execution_count": 42
        }
      ]
    },
    {
      "cell_type": "markdown",
      "source": [
        "Get predictions and convert them into list"
      ],
      "metadata": {
        "id": "96TWYkWCruyf"
      }
    },
    {
      "cell_type": "code",
      "source": [
        "predictions_on_testing_dataset = model.predict(testing_sequences)\n",
        "predictions_on_testing_dataset"
      ],
      "metadata": {
        "colab": {
          "base_uri": "https://localhost:8080/"
        },
        "id": "ls3w9Lnx1Btu",
        "outputId": "1c69e77a-3acd-47f9-a6e6-9b41142efbed"
      },
      "execution_count": 43,
      "outputs": [
        {
          "output_type": "stream",
          "name": "stdout",
          "text": [
            "313/313 [==============================] - 1s 3ms/step\n"
          ]
        },
        {
          "output_type": "execute_result",
          "data": {
            "text/plain": [
              "array([[1.23869935e-02, 5.16077504e-02, 9.36005235e-01],\n",
              "       [1.02785998e-05, 1.54841482e-03, 9.98441279e-01],\n",
              "       [2.93029994e-02, 7.55960271e-02, 8.95100951e-01],\n",
              "       ...,\n",
              "       [2.22316012e-02, 6.42248094e-02, 9.13543642e-01],\n",
              "       [1.56575590e-02, 5.39861619e-02, 9.30356324e-01],\n",
              "       [4.94609736e-02, 1.05718493e-01, 8.44820499e-01]], dtype=float32)"
            ]
          },
          "metadata": {},
          "execution_count": 43
        }
      ]
    },
    {
      "cell_type": "code",
      "source": [
        "predicted_labels = convert_predictions_to_labels(predictions_on_testing_dataset)\n",
        "with open('amazonReviewsPredictions.txt', 'w') as f:\n",
        "  for label in predicted_labels:\n",
        "    f.write(label + '\\n')"
      ],
      "metadata": {
        "id": "3v6QYiIk_B-J"
      },
      "execution_count": 44,
      "outputs": []
    },
    {
      "cell_type": "markdown",
      "source": [
        "Now I am going to test on amazonReviewsTest and to use test() function from Prof. Ron Zacharski to export my predictions."
      ],
      "metadata": {
        "id": "9GqL5NJ23O5-"
      }
    },
    {
      "cell_type": "code",
      "source": [
        "def test():\n",
        "  i = 0\n",
        "  answers = ['negative', 'neutral', 'positive']\n",
        "  with open('amazonReviewsPredictions.txt', 'r') as outfile:\n",
        "    lines = outfile.readlines()\n",
        "    for line in lines:\n",
        "        if line.strip() not in answers:\n",
        "          return(\"invalid entry line %i\" % (i))\n",
        "        i += 1\n",
        "    if i != 10000:\n",
        "      return (\"incorrect number of lines\")\n",
        "    else:\n",
        "      return (\"file looks ok\")\n",
        "test()"
      ],
      "metadata": {
        "colab": {
          "base_uri": "https://localhost:8080/",
          "height": 35
        },
        "id": "Lh6HBB9g98wF",
        "outputId": "cdfbc6d5-942a-4251-db3c-6e598a0d828f"
      },
      "execution_count": 46,
      "outputs": [
        {
          "output_type": "execute_result",
          "data": {
            "text/plain": [
              "'file looks ok'"
            ],
            "application/vnd.google.colaboratory.intrinsic+json": {
              "type": "string"
            }
          },
          "metadata": {},
          "execution_count": 46
        }
      ]
    },
    {
      "cell_type": "markdown",
      "source": [
        "From what I learned before doing this project, I have used:\n",
        "- BagOfWords (the Deep Learning in NLP lab)\n",
        "- SequenceOfSequence (Using Word Embedding with and without pre-trained in the Word Embedding lab)\n",
        "\n",
        "I prefer to use Word Embedding approach with pre-trained GloVe."
      ],
      "metadata": {
        "id": "QyoZWXK4Es1p"
      }
    }
  ]
}